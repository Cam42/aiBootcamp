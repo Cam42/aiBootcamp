{
 "cells": [
  {
   "cell_type": "markdown",
   "id": "953e29ed-fec1-4d14-953a-7867838ca136",
   "metadata": {},
   "source": [
    "citation:\n",
    "\n",
    "Vijayalakshmi M M \"Melanoma Skin Cancer Detection using Image Processing and Machine Learning\" Published in International Journal of Trend in Scientific Research\n",
    "and Development(ijtsrd), ISSN: 2456-6470, Volume-3 | Issue-4, June 2019, pp.780-784, URL:https://www.ijtsrd.com/papers/ijtsrd23936.pdf"
   ]
  },
  {
   "cell_type": "code",
   "execution_count": 28,
   "id": "4adf2d38-76ff-429d-a2b0-60f891b32143",
   "metadata": {},
   "outputs": [],
   "source": [
    "'''\n",
    "import images\n",
    "'''\n",
    "import pandas as pd\n",
    "import numpy as np\n",
    "import matplotlib.pyplot as plt\n",
    "import cv2\n",
    "\n",
    "import warnings\n",
    "warnings.catch_warnings \n",
    "\n",
    "import torchvision\n",
    "\n"
   ]
  },
  {
   "cell_type": "markdown",
   "id": "b319ae51-30be-4c3a-9983-99b3f05af14b",
   "metadata": {},
   "source": [
    "https://medium.com/@francode77/hair-removal-from-the-ham-dataset-2e884a423335\n",
    "https://github.com/Francode77/hair_removal_ham10000\n",
    "https://www.kaggle.com/code/parhammostame/hair-removal-from-skin-images\n",
    "https://docs.opencv.org/3.4/d9/db0/tutorial_hough_lines.html"
   ]
  },
  {
   "cell_type": "code",
   "execution_count": 26,
   "id": "c43bf30b-02ee-4337-9b7e-44699dc272c3",
   "metadata": {},
   "outputs": [
    {
     "data": {
      "text/plain": [
       "True"
      ]
     },
     "execution_count": 26,
     "metadata": {},
     "output_type": "execute_result"
    }
   ],
   "source": [
    "'''\n",
    "image pre-processing\n",
    "\n",
    "hair removed in image with Hough transform which finds\n",
    " elliptical and circular shapes that can be assumed as hair in the dataset\n",
    "\n",
    "shading removed with MATLAB filters\n",
    "\n",
    "glare removed with MATLAB filters\n",
    "'''\n",
    "\n",
    "# Reading the required image in\n",
    "# which operations are to be done.\n",
    "# Make sure that the image is in the same\n",
    "# directory in which this python program is\n",
    "img = cv2.imread('ISIC_0024320.jpg')\n",
    "\n",
    "# Convert the img to grayscale\n",
    "gray = cv2.cvtColor(img, cv2.COLOR_BGR2GRAY)\n",
    "cv2.imwrite('gray.jpg', gray)\n",
    "# Apply edge detection method on the image\n",
    "#edges = cv2.Canny(gray, 10, 150, apertureSize=3)\n",
    "#print(edges)\n",
    "#print(sum(edges))\n",
    "# This returns an array of r and theta values\n",
    "#lines = cv2.HoughLines(gray, 1, np.pi/180, 200)\n",
    "lines = cv2.HoughLines(gray, 200, np.pi, 200)\n",
    "\n",
    "# The below for loop runs till r and theta values\n",
    "# are in the range of the 2d array\n",
    "for r_theta in lines:\n",
    "    arr = np.array(r_theta[0], dtype=np.float64)\n",
    "    r, theta = arr\n",
    "    # Stores the value of cos(theta) in a\n",
    "    a = np.cos(theta)\n",
    "\n",
    "    # Stores the value of sin(theta) in b\n",
    "    b = np.sin(theta)\n",
    "\n",
    "    # x0 stores the value rcos(theta)\n",
    "    x0 = a*r\n",
    "\n",
    "    # y0 stores the value rsin(theta)\n",
    "    y0 = b*r\n",
    "\n",
    "    # x1 stores the rounded off value of (rcos(theta)-1000sin(theta))\n",
    "    x1 = int(x0 + 1000*(-b))\n",
    "\n",
    "    # y1 stores the rounded off value of (rsin(theta)+1000cos(theta))\n",
    "    y1 = int(y0 + 1000*(a))\n",
    "\n",
    "    # x2 stores the rounded off value of (rcos(theta)+1000sin(theta))\n",
    "    x2 = int(x0 - 1000*(-b))\n",
    "\n",
    "    # y2 stores the rounded off value of (rsin(theta)-1000cos(theta))\n",
    "    y2 = int(y0 - 1000*(a))\n",
    "\n",
    "    # cv2.line draws a line in img from the point(x1,y1) to (x2,y2).\n",
    "    # (0,0,255) denotes the colour of the line to be\n",
    "    # drawn. In this case, it is red.\n",
    "    cv2.line(img, (x1, y1), (x2, y2), (255, 0, 0), 2)\n",
    "\n",
    "# All the changes made in the input image are finally\n",
    "# written on a new image houghlines.jpg\n",
    "cv2.imwrite('linesDetected.jpg', img)\n",
    "\n"
   ]
  },
  {
   "cell_type": "code",
   "execution_count": null,
   "id": "b72585d7-6a16-4357-ab16-d25aa24c3f9b",
   "metadata": {},
   "outputs": [],
   "source": [
    "'''\n",
    "\n",
    "'''\n",
    "\n"
   ]
  },
  {
   "cell_type": "code",
   "execution_count": null,
   "id": "ef01ca55-cac5-4ca7-8b1c-da872f18945b",
   "metadata": {},
   "outputs": [],
   "source": [
    "'''\n",
    "\n",
    "'''\n",
    "\n"
   ]
  },
  {
   "cell_type": "code",
   "execution_count": 2,
   "id": "4a864613-a775-488e-ae29-cff03ed119c8",
   "metadata": {},
   "outputs": [
    {
     "name": "stdout",
     "output_type": "stream",
     "text": [
      "\n",
      "Please wait a moment while I gather a list of all available modules...\n",
      "\n"
     ]
    },
    {
     "name": "stderr",
     "output_type": "stream",
     "text": [
      "2025-06-23 11:35:00.717581: I external/local_tsl/tsl/cuda/cudart_stub.cc:32] Could not find cuda drivers on your machine, GPU will not be used.\n",
      "2025-06-23 11:35:00.789912: I external/local_tsl/tsl/cuda/cudart_stub.cc:32] Could not find cuda drivers on your machine, GPU will not be used.\n",
      "2025-06-23 11:35:01.072028: I tensorflow/core/platform/cpu_feature_guard.cc:210] This TensorFlow binary is optimized to use available CPU instructions in performance-critical operations.\n",
      "To enable the following instructions: AVX2 FMA, in other operations, rebuild TensorFlow with the appropriate compiler flags.\n",
      "2025-06-23 11:35:02.118574: W tensorflow/compiler/tf2tensorrt/utils/py_utils.cc:38] TF-TRT Warning: Could not find TensorRT\n",
      "/usr/lib/python3.12/pkgutil.py:78: UserWarning: The numpy.array_api submodule is still experimental. See NEP 47.\n",
      "  __import__(info.name)\n"
     ]
    },
    {
     "name": "stdout",
     "output_type": "stream",
     "text": [
      "IPython             async_lru           json5               rfc3986_validator\n",
      "PIL                 asyncio             jsonpointer         rich\n",
      "__future__          atexit              jsonschema          rlcompleter\n",
      "__hello__           attr                jsonschema_specifications rpds\n",
      "__phello__          attrs               jupyter             runpy\n",
      "_abc                audioop             jupyter_client      sched\n",
      "_aix_support        babel               jupyter_console     scikeras\n",
      "_argon2_cffi_bindings base64              jupyter_core        scipy\n",
      "_ast                bdb                 jupyter_events      secrets\n",
      "_asyncio            binascii            jupyter_lsp         select\n",
      "_bisect             bisect              jupyter_server      selectors\n",
      "_blake2             bleach              jupyter_server_terminals send2trash\n",
      "_bz2                blinker             jupyterlab          setuptools\n",
      "_cffi_backend       bs4                 jupyterlab_pygments shelve\n",
      "_codecs             builtins            jupyterlab_server   shlex\n",
      "_codecs_cn          bz2                 jupyterlab_widgets  shutil\n",
      "_codecs_hk          cProfile            keras               signal\n",
      "_codecs_iso2022     calendar            keyword             site\n",
      "_codecs_jp          certifi             kiwisolver          sitecustomize\n",
      "_codecs_kr          cffi                linecache           six\n",
      "_codecs_tw          cgi                 locale              sklearn\n",
      "_collections        cgitb               logging             smtplib\n",
      "_collections_abc    charset_normalizer  lzma                sndhdr\n",
      "_compat_pickle      chunk               mailbox             sniffio\n",
      "_compression        clang               mailcap             socket\n",
      "_contextvars        click               markdown            socketserver\n",
      "_crypt              cmath               markdown_it         soupsieve\n",
      "_csv                cmd                 markupsafe          spwd\n",
      "_ctypes             code                marshal             sqlite3\n",
      "_ctypes_test        codecs              math                sre_compile\n",
      "_curses             codeop              matplotlib          sre_constants\n",
      "_curses_panel       collections         matplotlib_inline   sre_parse\n",
      "_datetime           colorsys            mdurl               ssl\n",
      "_dbm                comm                mimetypes           stack_data\n",
      "_decimal            compileall          mistune             stat\n",
      "_distutils_hack     concurrent          ml_dtypes           statistics\n",
      "_distutils_system_mod configparser        mmap                string\n",
      "_elementtree        contextlib          modulefinder        stringprep\n",
      "_functools          contextvars         multiprocessing     struct\n",
      "_gdbm               contourpy           namex               subprocess\n",
      "_hashlib            copy                nbclient            sunau\n",
      "_heapq              copyreg             nbconvert           symtable\n",
      "_imp                crypt               nbformat            sys\n",
      "_io                 csv                 nest_asyncio        sysconfig\n",
      "_json               ctypes              netrc               syslog\n",
      "_locale             curses              nntplib             tabnanny\n",
      "_lsprof             cycler              notebook            tarfile\n",
      "_lzma               dataclasses         notebook_shim       telnetlib\n",
      "_markupbase         datetime            ntpath              tempfile\n",
      "_md5                dateutil            nturl2path          tensorboard\n",
      "_multibytecodec     dbm                 numbers             tensorboard_data_server\n",
      "_multiprocessing    debugpy             numpy               tensorflow\n",
      "_opcode             decimal             opcode              termcolor\n",
      "_operator           decorator           openpyxl            terminado\n",
      "_osx_support        defusedxml          operator            termios\n",
      "_pickle             difflib             opt_einsum          test\n",
      "_posixshmem         dis                 optparse            textwrap\n",
      "_posixsubprocess    doctest             optree              this\n",
      "_py_abc             email               os                  threading\n",
      "_pydatetime         encodings           ossaudiodev         threadpoolctl\n",
      "_pydecimal          ensurepip           overrides           time\n",
      "_pyio               enum                packaging           timeit\n",
      "_pylong             errno               pandas              tinycss2\n",
      "_queue              et_xmlfile          pandocfilters       tkinter\n",
      "_random             executing           parso               token\n",
      "_sha1               fastjsonschema      pasta               tokenize\n",
      "_sha2               faulthandler        pathlib             tomllib\n",
      "_sha3               fcntl               pdb                 tornado\n",
      "_signal             filecmp             pexpect             trace\n",
      "_sitebuiltins       fileinput           pickle              traceback\n",
      "_socket             flask               pickletools         tracemalloc\n",
      "_sqlite3            flatbuffers         pip                 traitlets\n",
      "_sre                fnmatch             pipes               tty\n",
      "_ssl                fontTools           pkg_resources       turtle\n",
      "_stat               fqdn                pkgutil             types\n",
      "_statistics         fractions           platform            typing\n",
      "_string             ftplib              platformdirs        typing_extensions\n",
      "_strptime           functools           plistlib            tzdata\n",
      "_struct             gast                poplib              unicodedata\n",
      "_symtable           gc                  posix               unittest\n",
      "_sysconfigdata__linux_x86_64-linux-gnu genericpath         posixpath           uri_template\n",
      "_sysconfigdata__x86_64-linux-gnu getopt              pprint              urllib\n",
      "_testbuffer         getpass             profile             urllib3\n",
      "_testcapi           gettext             prometheus_client   uu\n",
      "_testclinic         glob                prompt_toolkit      uuid\n",
      "_testimportmultiple graphlib            pstats              venv\n",
      "_testinternalcapi   grp                 psutil              warnings\n",
      "_testmultiphase     grpc                pty                 wave\n",
      "_testsinglephase    gzip                ptyprocess          wcwidth\n",
      "_thread             h11                 pure_eval           weakref\n",
      "_threading_local    h5py                pwd                 webbrowser\n",
      "_tkinter            hashlib             py_compile          webcolors\n",
      "_tokenize           heapq               pyclbr              webencodings\n",
      "_tracemalloc        hmac                pycparser           websocket\n",
      "_typing             html                pydoc               werkzeug\n",
      "_warnings           http                pydoc_data          wheel\n",
      "_weakref            httpcore            pyexpat             widgetsnbextension\n",
      "_weakrefset         httpx               pygments            wrapt\n",
      "_xxinterpchannels   idna                pylab               wsgiref\n",
      "_xxsubinterpreters  imaplib             pyngrok             xdrlib\n",
      "_xxtestfuzz         imghdr              pyparsing           xml\n",
      "_yaml               importlib           pythonjsonlogger    xmlrpc\n",
      "_zoneinfo           inspect             pytz                xxlimited\n",
      "abc                 io                  qtconsole           xxlimited_35\n",
      "absl                ipaddress           qtpy                xxsubtype\n",
      "aifc                ipykernel           queue               yaml\n",
      "antigravity         ipykernel_launcher  quopri              zipapp\n",
      "anyio               ipywidgets          random              zipfile\n",
      "argon2              isoduration         re                  zipimport\n",
      "argparse            itertools           readline            zlib\n",
      "array               itsdangerous        referencing         zmq\n",
      "arrow               jedi                reprlib             zoneinfo\n",
      "ast                 jinja2              requests            \n",
      "asttokens           joblib              resource            \n",
      "astunparse          json                rfc3339_validator   \n",
      "\n",
      "Enter any module name to get more help.  Or, type \"modules spam\" to search\n",
      "for modules whose name or summary contain the string \"spam\".\n",
      "\n"
     ]
    }
   ],
   "source": [
    "'''\n",
    "\n",
    "'''\n",
    "help('modules')\n"
   ]
  },
  {
   "cell_type": "code",
   "execution_count": null,
   "id": "89ca721b-3815-406b-ab75-fabb02445f50",
   "metadata": {},
   "outputs": [],
   "source": [
    "'''\n",
    "\n",
    "'''\n",
    "\n"
   ]
  },
  {
   "cell_type": "code",
   "execution_count": null,
   "id": "a2f4d876-7486-4fa1-948f-eb345a2c8f21",
   "metadata": {},
   "outputs": [],
   "source": []
  },
  {
   "cell_type": "code",
   "execution_count": null,
   "id": "25189f88-4a13-4c15-b4e9-165765681fd8",
   "metadata": {},
   "outputs": [],
   "source": []
  },
  {
   "cell_type": "code",
   "execution_count": null,
   "id": "180b493f-a214-4f2c-bc3c-b147123621b3",
   "metadata": {},
   "outputs": [],
   "source": []
  },
  {
   "cell_type": "code",
   "execution_count": null,
   "id": "c9a03a32-a658-44f2-9bac-2efae54ea4cd",
   "metadata": {},
   "outputs": [],
   "source": []
  },
  {
   "cell_type": "code",
   "execution_count": null,
   "id": "195ca577-3091-44fe-aa8d-a39a0cb5c6f8",
   "metadata": {},
   "outputs": [],
   "source": []
  },
  {
   "cell_type": "code",
   "execution_count": null,
   "id": "b4ff49cd-d3e2-49bc-9a32-7197c600bf4e",
   "metadata": {},
   "outputs": [],
   "source": []
  },
  {
   "cell_type": "code",
   "execution_count": null,
   "id": "06c8d987-5ad3-4d3a-b416-ffda349abc31",
   "metadata": {},
   "outputs": [],
   "source": []
  },
  {
   "cell_type": "code",
   "execution_count": null,
   "id": "396bc492-daa2-4c4d-a9d4-3f8fd0e7a252",
   "metadata": {},
   "outputs": [],
   "source": []
  },
  {
   "cell_type": "code",
   "execution_count": null,
   "id": "db281a0a-81c5-4f07-92bb-fe64e3c4e943",
   "metadata": {},
   "outputs": [],
   "source": []
  },
  {
   "cell_type": "code",
   "execution_count": null,
   "id": "a6d94e03-af68-4870-bacb-1c2a5db1ac10",
   "metadata": {},
   "outputs": [],
   "source": []
  }
 ],
 "metadata": {
  "kernelspec": {
   "display_name": "Python 3 (ipykernel)",
   "language": "python",
   "name": "python3"
  },
  "language_info": {
   "codemirror_mode": {
    "name": "ipython",
    "version": 3
   },
   "file_extension": ".py",
   "mimetype": "text/x-python",
   "name": "python",
   "nbconvert_exporter": "python",
   "pygments_lexer": "ipython3",
   "version": "3.12.3"
  }
 },
 "nbformat": 4,
 "nbformat_minor": 5
}
