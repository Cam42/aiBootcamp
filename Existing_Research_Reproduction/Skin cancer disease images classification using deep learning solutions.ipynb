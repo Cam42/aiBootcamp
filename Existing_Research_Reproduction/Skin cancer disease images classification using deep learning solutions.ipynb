{
 "cells": [
  {
   "cell_type": "markdown",
   "id": "27980c50-5775-44d9-a9ae-8e6401f33d67",
   "metadata": {},
   "source": [
    "Mijwil, M.M. Skin cancer disease images classification using deep learning solutions. Multimed Tools Appl 80, 26255–26271 (2021). https://doi.org/10.1007/s11042-021-10952-7\n",
    "\n",
    "The article by Mijwil "
   ]
  },
  {
   "cell_type": "code",
   "execution_count": null,
   "id": "2e190ae8-dfb7-4d9b-b24f-effad81c1a1c",
   "metadata": {},
   "outputs": [],
   "source": []
  },
  {
   "cell_type": "code",
   "execution_count": null,
   "id": "6751758d-c060-4c76-8e8d-fd127d7b1cf4",
   "metadata": {},
   "outputs": [],
   "source": []
  },
  {
   "cell_type": "code",
   "execution_count": null,
   "id": "2d8994ef-0498-4508-b1b0-b4b2d93deb17",
   "metadata": {},
   "outputs": [],
   "source": []
  }
 ],
 "metadata": {
  "kernelspec": {
   "display_name": "Python 3 (ipykernel)",
   "language": "python",
   "name": "python3"
  },
  "language_info": {
   "codemirror_mode": {
    "name": "ipython",
    "version": 3
   },
   "file_extension": ".py",
   "mimetype": "text/x-python",
   "name": "python",
   "nbconvert_exporter": "python",
   "pygments_lexer": "ipython3",
   "version": "3.12.3"
  }
 },
 "nbformat": 4,
 "nbformat_minor": 5
}
