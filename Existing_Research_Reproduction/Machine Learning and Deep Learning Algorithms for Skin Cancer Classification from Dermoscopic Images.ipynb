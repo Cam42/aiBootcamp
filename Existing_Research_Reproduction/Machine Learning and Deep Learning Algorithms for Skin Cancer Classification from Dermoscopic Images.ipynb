{
 "cells": [
  {
   "cell_type": "raw",
   "id": "51950957-e9f0-4192-9ee8-ee31ad6c6a72",
   "metadata": {},
   "source": [
    "\n",
    "citation:\n",
    "Bechelli, S.; Delhommelle, J. Machine Learning and Deep Learning Algorithms for Skin Cancer Classification from Dermoscopic Images. Bioengineering 2022, 9, 97. https://doi.org/10.3390/bioengineering9030097\n"
   ]
  },
  {
   "cell_type": "code",
   "execution_count": null,
   "id": "5c6cf273-e55c-41b8-a94b-c7046354a310",
   "metadata": {},
   "outputs": [],
   "source": []
  },
  {
   "cell_type": "code",
   "execution_count": null,
   "id": "3b1cd146-3bd4-4492-979b-51bca647f475",
   "metadata": {},
   "outputs": [],
   "source": []
  }
 ],
 "metadata": {
  "kernelspec": {
   "display_name": "Python 3 (ipykernel)",
   "language": "python",
   "name": "python3"
  },
  "language_info": {
   "codemirror_mode": {
    "name": "ipython",
    "version": 3
   },
   "file_extension": ".py",
   "mimetype": "text/x-python",
   "name": "python",
   "nbconvert_exporter": "python",
   "pygments_lexer": "ipython3",
   "version": "3.12.3"
  }
 },
 "nbformat": 4,
 "nbformat_minor": 5
}
